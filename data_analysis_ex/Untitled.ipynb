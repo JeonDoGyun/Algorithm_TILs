{
 "cells": [
  {
   "cell_type": "markdown",
   "id": "dc29a207-2859-4de0-988d-4f0aaca010bd",
   "metadata": {},
   "source": [
    "## Set Up & Load Data"
   ]
  },
  {
   "cell_type": "code",
   "execution_count": 2,
   "id": "6c843e5b-8d75-4a0b-925c-4d51cd92d8e0",
   "metadata": {},
   "outputs": [],
   "source": [
    "# 기본 라이브러리\n",
    "import pandas as pd\n",
    "from matplotlib import pyplot as plt\n",
    "import numpy as np\n",
    "import seaborn as sns"
   ]
  },
  {
   "cell_type": "code",
   "execution_count": 3,
   "id": "df3f8724-f81e-4a23-9ba3-547c8997db12",
   "metadata": {},
   "outputs": [],
   "source": [
    "# warning 무시\n",
    "import warnings\n",
    "warnings.filterwarnings(action='ignore')"
   ]
  },
  {
   "cell_type": "code",
   "execution_count": 4,
   "id": "60c44f42-b711-4bf1-9ef1-e72b818168db",
   "metadata": {},
   "outputs": [
    {
     "data": {
      "text/html": [
       "<div>\n",
       "<style scoped>\n",
       "    .dataframe tbody tr th:only-of-type {\n",
       "        vertical-align: middle;\n",
       "    }\n",
       "\n",
       "    .dataframe tbody tr th {\n",
       "        vertical-align: top;\n",
       "    }\n",
       "\n",
       "    .dataframe thead th {\n",
       "        text-align: right;\n",
       "    }\n",
       "</style>\n",
       "<table border=\"1\" class=\"dataframe\">\n",
       "  <thead>\n",
       "    <tr style=\"text-align: right;\">\n",
       "      <th></th>\n",
       "      <th>date</th>\n",
       "      <th>PM-10</th>\n",
       "    </tr>\n",
       "  </thead>\n",
       "  <tbody>\n",
       "    <tr>\n",
       "      <th>0</th>\n",
       "      <td>2022-12-08:24</td>\n",
       "      <td>22.0</td>\n",
       "    </tr>\n",
       "    <tr>\n",
       "      <th>1</th>\n",
       "      <td>2022-12-08:23</td>\n",
       "      <td>22.0</td>\n",
       "    </tr>\n",
       "    <tr>\n",
       "      <th>2</th>\n",
       "      <td>2022-12-08:22</td>\n",
       "      <td>25.0</td>\n",
       "    </tr>\n",
       "    <tr>\n",
       "      <th>3</th>\n",
       "      <td>2022-12-08:21</td>\n",
       "      <td>23.0</td>\n",
       "    </tr>\n",
       "    <tr>\n",
       "      <th>4</th>\n",
       "      <td>2022-12-08:20</td>\n",
       "      <td>20.0</td>\n",
       "    </tr>\n",
       "  </tbody>\n",
       "</table>\n",
       "</div>"
      ],
      "text/plain": [
       "            date  PM-10\n",
       "0  2022-12-08:24   22.0\n",
       "1  2022-12-08:23   22.0\n",
       "2  2022-12-08:22   25.0\n",
       "3  2022-12-08:21   23.0\n",
       "4  2022-12-08:20   20.0"
      ]
     },
     "execution_count": 4,
     "metadata": {},
     "output_type": "execute_result"
    }
   ],
   "source": [
    "# 데이터 로드\n",
    "df = pd.read_csv('Seoul PM10 data.csv')\n",
    "df.head()"
   ]
  },
  {
   "cell_type": "markdown",
   "id": "854bc450-41d4-43df-a417-be573df5623c",
   "metadata": {},
   "source": [
    "## EDA, 데이터 전처리"
   ]
  },
  {
   "cell_type": "code",
   "execution_count": 7,
   "id": "d6e13182-bcdb-4efb-a082-1454e6167f02",
   "metadata": {},
   "outputs": [
    {
     "name": "stdout",
     "output_type": "stream",
     "text": [
      "#################### 기본 정보 ####################\n",
      "<bound method DataFrame.info of               date  PM-10\n",
      "0    2022-12-08:24   22.0\n",
      "1    2022-12-08:23   22.0\n",
      "2    2022-12-08:22   25.0\n",
      "3    2022-12-08:21   23.0\n",
      "4    2022-12-08:20   20.0\n",
      "..             ...    ...\n",
      "190  2022-12-01:02   12.0\n",
      "191  2022-12-01:01   15.0\n",
      "192            NaN    NaN\n",
      "193            NaN    NaN\n",
      "194            NaN    NaN\n",
      "\n",
      "[195 rows x 2 columns]>\n",
      "#################### 기초통계량 ####################\n",
      "                 date       PM-10\n",
      "count             192  192.000000\n",
      "unique            192         NaN\n",
      "top     2022-12-08:24         NaN\n",
      "freq                1         NaN\n",
      "mean              NaN   24.572917\n",
      "std               NaN    9.278410\n",
      "min               NaN    9.000000\n",
      "25%               NaN   18.000000\n",
      "50%               NaN   23.000000\n",
      "75%               NaN   30.000000\n",
      "max               NaN   61.000000\n"
     ]
    }
   ],
   "source": [
    "print('#'*20, '기본 정보', '#'*20)\n",
    "print(df.info)\n",
    "print('#'*20, '기초통계량', '#'*20)\n",
    "print(df.describe(include='all'))"
   ]
  },
  {
   "cell_type": "code",
   "execution_count": 21,
   "id": "adc31cd9-4f54-4817-a44a-a0fe9509eef2",
   "metadata": {},
   "outputs": [],
   "source": [
    "# 결측치 확인\n",
    "# df.isnull().sum().sort_values(ascending=True)\n",
    "# sns.heatmap(df.isnull())\n",
    "df['PM-10'].fillna(df['PM-10'].mean(), inplace=True)"
   ]
  },
  {
   "cell_type": "code",
   "execution_count": 24,
   "id": "7f7296a3-340f-47e8-a099-eb0c358a8a42",
   "metadata": {},
   "outputs": [
    {
     "ename": "TypeError",
     "evalue": "Series.corr() missing 1 required positional argument: 'other'",
     "output_type": "error",
     "traceback": [
      "\u001b[0;31m---------------------------------------------------------------------------\u001b[0m",
      "\u001b[0;31mTypeError\u001b[0m                                 Traceback (most recent call last)",
      "Cell \u001b[0;32mIn[24], line 4\u001b[0m\n\u001b[1;32m      1\u001b[0m \u001b[38;5;66;03m# categorical 변수 인코딩\u001b[39;00m\n\u001b[1;32m      2\u001b[0m \u001b[38;5;66;03m# 더미 변수로 변환 후 기존 변수 삭제\u001b[39;00m\n\u001b[1;32m      3\u001b[0m \u001b[38;5;66;03m# 상관 계수 확인\u001b[39;00m\n\u001b[0;32m----> 4\u001b[0m corr \u001b[38;5;241m=\u001b[39m df[\u001b[38;5;124m'\u001b[39m\u001b[38;5;124mPM-10\u001b[39m\u001b[38;5;124m'\u001b[39m]\u001b[38;5;241m.\u001b[39mcorr()\n\u001b[1;32m      5\u001b[0m corr[\u001b[38;5;124m'\u001b[39m\u001b[38;5;124mPM-10\u001b[39m\u001b[38;5;124m'\u001b[39m]\u001b[38;5;241m.\u001b[39msort_values(ascending\u001b[38;5;241m=\u001b[39m\u001b[38;5;28;01mTrue\u001b[39;00m)\n",
      "\u001b[0;31mTypeError\u001b[0m: Series.corr() missing 1 required positional argument: 'other'"
     ]
    }
   ],
   "source": [
    "# categorical 변수 인코딩\n",
    "# 더미 변수로 변환 후 기존 변수 삭제\n",
    "# 상관 계수 확인\n",
    "corr = df.corr()\n",
    "corr['PM-10'].sort_values(ascending=True)\n",
    "\n",
    "plt.figure(figsize=(10, 8))\n",
    "sns.heatmap(corr, annot=True, center=0)"
   ]
  },
  {
   "cell_type": "code",
   "execution_count": 26,
   "id": "d9545a83-ab3b-42b1-bbd8-6498d6f28b3d",
   "metadata": {},
   "outputs": [
    {
     "data": {
      "text/plain": [
       "<Axes: xlabel='PM-10', ylabel='Count'>"
      ]
     },
     "execution_count": 26,
     "metadata": {},
     "output_type": "execute_result"
    },
    {
     "data": {
      "image/png": "[encoded data removed]",
      "text/plain": [
       "<Figure size 640x480 with 1 Axes>"
      ]
     },
     "metadata": {},
     "output_type": "display_data"
    }
   ],
   "source": [
    "sns.histplot(df['PM-10'])"
   ]
  },
  {
   "cell_type": "code",
   "execution_count": 40,
   "id": "2c424080-c004-401e-8034-6dcac0866b9a",
   "metadata": {},
   "outputs": [],
   "source": [
    "X = df.drop(['date'], axis=1)\n",
    "y = df['date']"
   ]
  },
  {
   "cell_type": "code",
   "execution_count": 44,
   "id": "dfd439f3-491a-4ccd-8168-1bca880b77ba",
   "metadata": {},
   "outputs": [
    {
     "ename": "TypeError",
     "evalue": "first argument must be an iterable of pandas objects, you passed an object of type \"Series\"",
     "output_type": "error",
     "traceback": [
      "\u001b[0;31m---------------------------------------------------------------------------\u001b[0m",
      "\u001b[0;31mTypeError\u001b[0m                                 Traceback (most recent call last)",
      "Cell \u001b[0;32mIn[44], line 1\u001b[0m\n\u001b[0;32m----> 1\u001b[0m new \u001b[38;5;241m=\u001b[39m pd\u001b[38;5;241m.\u001b[39mconcat(y, axis\u001b[38;5;241m=\u001b[39m\u001b[38;5;241m1\u001b[39m)\n\u001b[1;32m      2\u001b[0m new\n",
      "File \u001b[0;32m/opt/homebrew/anaconda3/lib/python3.11/site-packages/pandas/core/reshape/concat.py:380\u001b[0m, in \u001b[0;36mconcat\u001b[0;34m(objs, axis, join, ignore_index, keys, levels, names, verify_integrity, sort, copy)\u001b[0m\n\u001b[1;32m    377\u001b[0m \u001b[38;5;28;01melif\u001b[39;00m copy \u001b[38;5;129;01mand\u001b[39;00m using_copy_on_write():\n\u001b[1;32m    378\u001b[0m     copy \u001b[38;5;241m=\u001b[39m \u001b[38;5;28;01mFalse\u001b[39;00m\n\u001b[0;32m--> 380\u001b[0m op \u001b[38;5;241m=\u001b[39m _Concatenator(\n\u001b[1;32m    381\u001b[0m     objs,\n\u001b[1;32m    382\u001b[0m     axis\u001b[38;5;241m=\u001b[39maxis,\n\u001b[1;32m    383\u001b[0m     ignore_index\u001b[38;5;241m=\u001b[39mignore_index,\n\u001b[1;32m    384\u001b[0m     join\u001b[38;5;241m=\u001b[39mjoin,\n\u001b[1;32m    385\u001b[0m     keys\u001b[38;5;241m=\u001b[39mkeys,\n\u001b[1;32m    386\u001b[0m     levels\u001b[38;5;241m=\u001b[39mlevels,\n\u001b[1;32m    387\u001b[0m     names\u001b[38;5;241m=\u001b[39mnames,\n\u001b[1;32m    388\u001b[0m     verify_integrity\u001b[38;5;241m=\u001b[39mverify_integrity,\n\u001b[1;32m    389\u001b[0m     copy\u001b[38;5;241m=\u001b[39mcopy,\n\u001b[1;32m    390\u001b[0m     sort\u001b[38;5;241m=\u001b[39msort,\n\u001b[1;32m    391\u001b[0m )\n\u001b[1;32m    393\u001b[0m \u001b[38;5;28;01mreturn\u001b[39;00m op\u001b[38;5;241m.\u001b[39mget_result()\n",
      "File \u001b[0;32m/opt/homebrew/anaconda3/lib/python3.11/site-packages/pandas/core/reshape/concat.py:417\u001b[0m, in \u001b[0;36m_Concatenator.__init__\u001b[0;34m(self, objs, axis, join, keys, levels, names, ignore_index, verify_integrity, copy, sort)\u001b[0m\n\u001b[1;32m    403\u001b[0m \u001b[38;5;28;01mdef\u001b[39;00m \u001b[38;5;21m__init__\u001b[39m(\n\u001b[1;32m    404\u001b[0m     \u001b[38;5;28mself\u001b[39m,\n\u001b[1;32m    405\u001b[0m     objs: Iterable[Series \u001b[38;5;241m|\u001b[39m DataFrame] \u001b[38;5;241m|\u001b[39m Mapping[HashableT, Series \u001b[38;5;241m|\u001b[39m DataFrame],\n\u001b[0;32m   (...)\u001b[0m\n\u001b[1;32m    414\u001b[0m     sort: \u001b[38;5;28mbool\u001b[39m \u001b[38;5;241m=\u001b[39m \u001b[38;5;28;01mFalse\u001b[39;00m,\n\u001b[1;32m    415\u001b[0m ) \u001b[38;5;241m-\u001b[39m\u001b[38;5;241m>\u001b[39m \u001b[38;5;28;01mNone\u001b[39;00m:\n\u001b[1;32m    416\u001b[0m     \u001b[38;5;28;01mif\u001b[39;00m \u001b[38;5;28misinstance\u001b[39m(objs, (ABCSeries, ABCDataFrame, \u001b[38;5;28mstr\u001b[39m)):\n\u001b[0;32m--> 417\u001b[0m         \u001b[38;5;28;01mraise\u001b[39;00m \u001b[38;5;167;01mTypeError\u001b[39;00m(\n\u001b[1;32m    418\u001b[0m             \u001b[38;5;124m\"\u001b[39m\u001b[38;5;124mfirst argument must be an iterable of pandas \u001b[39m\u001b[38;5;124m\"\u001b[39m\n\u001b[1;32m    419\u001b[0m             \u001b[38;5;124mf\u001b[39m\u001b[38;5;124m'\u001b[39m\u001b[38;5;124mobjects, you passed an object of type \u001b[39m\u001b[38;5;124m\"\u001b[39m\u001b[38;5;132;01m{\u001b[39;00m\u001b[38;5;28mtype\u001b[39m(objs)\u001b[38;5;241m.\u001b[39m\u001b[38;5;18m__name__\u001b[39m\u001b[38;5;132;01m}\u001b[39;00m\u001b[38;5;124m\"\u001b[39m\u001b[38;5;124m'\u001b[39m\n\u001b[1;32m    420\u001b[0m         )\n\u001b[1;32m    422\u001b[0m     \u001b[38;5;28;01mif\u001b[39;00m join \u001b[38;5;241m==\u001b[39m \u001b[38;5;124m\"\u001b[39m\u001b[38;5;124mouter\u001b[39m\u001b[38;5;124m\"\u001b[39m:\n\u001b[1;32m    423\u001b[0m         \u001b[38;5;28mself\u001b[39m\u001b[38;5;241m.\u001b[39mintersect \u001b[38;5;241m=\u001b[39m \u001b[38;5;28;01mFalse\u001b[39;00m\n",
      "\u001b[0;31mTypeError\u001b[0m: first argument must be an iterable of pandas objects, you passed an object of type \"Series\""
     ]
    }
   ],
   "source": []
  },
  {
   "cell_type": "code",
   "execution_count": null,
   "id": "685227b5-1583-444f-841d-95c478eccbdd",
   "metadata": {},
   "outputs": [],
   "source": []
  }
 ],
 "metadata": {
  "kernelspec": {
   "display_name": "Python 3 (ipykernel)",
   "language": "python",
   "name": "python3"
  },
  "language_info": {
   "codemirror_mode": {
    "name": "ipython",
    "version": 3
   },
   "file_extension": ".py",
   "mimetype": "text/x-python",
   "name": "python",
   "nbconvert_exporter": "python",
   "pygments_lexer": "ipython3",
   "version": "3.11.7"
  }
 },
 "nbformat": 4,
 "nbformat_minor": 5
}
